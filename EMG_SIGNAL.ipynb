{
 "cells": [
  {
   "cell_type": "markdown",
   "id": "8bc6ad3f",
   "metadata": {},
   "source": [
    "Import libraries"
   ]
  },
  {
   "cell_type": "code",
   "execution_count": 24,
   "id": "c8477189-d7bc-47be-b906-3dd038607290",
   "metadata": {},
   "outputs": [],
   "source": [
    "import pandas as pd\n",
    "import matplotlib.pyplot as plt\n",
    "from scipy.signal import butter, filtfilt\n"
   ]
  },
  {
   "cell_type": "markdown",
   "id": "96b5552e",
   "metadata": {},
   "source": [
    "Data Loading , Intervals declreation , filter"
   ]
  },
  {
   "cell_type": "code",
   "execution_count": null,
   "id": "fe3f77d3",
   "metadata": {},
   "outputs": [],
   "source": [
    "# Load the dataset\n",
    "df1 = pd.read_csv(r'C:\\Users\\delta\\Desktop\\male.csv')  # Male data\n",
    "df2 = pd.read_csv(r'C:\\Users\\delta\\Desktop\\female.csv')  # Female data\n",
    "\n",
    "# Convert columns to numeric in case they are read as strings\n",
    "df1 = df1.apply(pd.to_numeric, errors='coerce')\n",
    "df2 = df2.apply(pd.to_numeric, errors='coerce')\n",
    "\n",
    "# Extract time and EMG values for both subjects (male and female)\n",
    "time_male = df1['Data Set 1:Time(s)']\n",
    "time_female = df2['Data Set 2:Time(s)']  # Ensure time alignment\n",
    "emg_male = df1['Data Set 1:EMG Rectified(mV)']\n",
    "emg_female = df2['Data Set 2:EMG Rectified(mV)']\n",
    "\n",
    "# Define a Butterworth low-pass filter to remove noise\n",
    "def butter_lowpass_filter(data, cutoff, fs, order=4):\n",
    "    nyquist = 0.5 * fs\n",
    "    normal_cutoff = cutoff / nyquist\n",
    "    b, a = butter(order, normal_cutoff, btype='low', analog=False)\n",
    "    y = filtfilt(b, a, data)\n",
    "    return y\n",
    "\n",
    "# Set parameters for the low-pass filter\n",
    "fs = 100  # Sampling rate in Hz (assuming 100 Hz)\n",
    "cutoff = 20  # Cutoff frequency in Hz, adjusted to preserve more signal\n",
    "\n",
    "# Apply the low-pass filter to the EMG signals\n",
    "emg_male_filtered = butter_lowpass_filter(emg_male, cutoff, fs)\n",
    "emg_female_filtered = butter_lowpass_filter(emg_female, cutoff, fs)\n",
    "\n",
    "# Define time intervals for different phases\n",
    "intervals = {\n",
    "    \"no_movement\": (0, 5),\n",
    "    \"contraction_1\": (5, 10),\n",
    "    \"relaxation_1\": (10, 15),\n",
    "    \"contraction_2\": (15, 20),\n",
    "    \"relaxation_2\": (20, 25)\n",
    "}\n",
    "\n",
    "# Function to filter EMG data within a specific time interval\n",
    "def filter_interval(time, emg, interval):\n",
    "    start, end = interval\n",
    "    mask = (time >= start) & (time < end)\n",
    "    return emg[mask]\n",
    "\n",
    "# Store EMG data for each phase (male and female)\n",
    "emg_data = {\n",
    "    \"male\": {},\n",
    "    \"female\": {}\n",
    "}\n"
   ]
  },
  {
   "cell_type": "markdown",
   "id": "a0ac0550",
   "metadata": {},
   "source": [
    "Plotting ad analysis"
   ]
  },
  {
   "cell_type": "code",
   "execution_count": null,
   "id": "a71543ff",
   "metadata": {},
   "outputs": [],
   "source": [
    "# Extract EMG data for each phase for both subjects\n",
    "for phase, interval in intervals.items():\n",
    "    emg_data['male'][phase] = filter_interval(time_male, emg_male_filtered, interval)\n",
    "    emg_data['female'][phase] = filter_interval(time_female, emg_female_filtered, interval)\n",
    "\n",
    "    # Remove NaN values from the filtered data\n",
    "    emg_data['male'][phase] = emg_data['male'][phase][~pd.isna(emg_data['male'][phase])]\n",
    "    emg_data['female'][phase] = emg_data['female'][phase][~pd.isna(emg_data['female'][phase])]\n",
    "\n",
    "    # Debugging output to check the contents of filtered data\n",
    "    print(f\"{phase} - Male data:\", emg_data['male'][phase])\n",
    "    print(f\"{phase} - Female data:\", emg_data['female'][phase])\n",
    "\n",
    "# Plotting histograms for male and female contraction and relaxation phases\n",
    "plt.figure(figsize=(12, 8))\n",
    "\n",
    "# Histogram for Male - Contraction vs Relaxation\n",
    "plt.subplot(2, 2, 1)\n",
    "if emg_data['male']['contraction_1'].size > 0:\n",
    "    plt.hist(emg_data['male']['contraction_1'], bins=20, alpha=0.7, label='Contraction 1')\n",
    "if emg_data['male']['relaxation_1'].size > 0:\n",
    "    plt.hist(emg_data['male']['relaxation_1'], bins=20, alpha=0.7, label='Relaxation 1', color='orange')\n",
    "plt.title(\"Male - Contraction vs Relaxation (Phase 1)\")\n",
    "plt.xlabel(\"EMG Rectified (mV)\")\n",
    "plt.ylabel(\"Frequency\")\n",
    "plt.legend()\n",
    "\n",
    "plt.subplot(2, 2, 2)\n",
    "if emg_data['male']['contraction_2'].size > 0:\n",
    "    plt.hist(emg_data['male']['contraction_2'], bins=20, alpha=0.7, label='Contraction 2')\n",
    "if emg_data['male']['relaxation_2'].size > 0:\n",
    "    plt.hist(emg_data['male']['relaxation_2'], bins=20, alpha=0.7, label='Relaxation 2', color='orange')\n",
    "plt.title(\"Male - Contraction vs Relaxation (Phase 2)\")\n",
    "plt.xlabel(\"EMG Rectified (mV)\")\n",
    "plt.ylabel(\"Frequency\")\n",
    "plt.legend()\n",
    "\n",
    "# Histogram for Female - Contraction vs Relaxation\n",
    "plt.subplot(2, 2, 3)\n",
    "if emg_data['female']['contraction_1'].size > 0:\n",
    "    plt.hist(emg_data['female']['contraction_1'], bins=20, alpha=0.7, label='Contraction 1')\n",
    "if emg_data['female']['relaxation_1'].size > 0:\n",
    "    plt.hist(emg_data['female']['relaxation_1'], bins=20, alpha=0.7, label='Relaxation 1', color='orange')\n",
    "plt.title(\"Female - Contraction vs Relaxation (Phase 1)\")\n",
    "plt.xlabel(\"EMG Rectified (mV)\")\n",
    "plt.ylabel(\"Frequency\")\n",
    "plt.legend()\n",
    "\n",
    "plt.subplot(2, 2, 4)\n",
    "if emg_data['female']['contraction_2'].size > 0:\n",
    "    plt.hist(emg_data['female']['contraction_2'], bins=20, alpha=0.7, label='Contraction 2')\n",
    "if emg_data['female']['relaxation_2'].size > 0:\n",
    "    plt.hist(emg_data['female']['relaxation_2'], bins=20, alpha=0.7, label='Relaxation 2', color='orange')\n",
    "plt.title(\"Female - Contraction vs Relaxation (Phase 2)\")\n",
    "plt.xlabel(\"EMG Rectified (mV)\")\n",
    "plt.ylabel(\"Frequency\")\n",
    "plt.legend()\n",
    "\n",
    "plt.tight_layout()\n",
    "plt.show()"
   ]
  }
 ],
 "metadata": {
  "kernelspec": {
   "display_name": "base",
   "language": "python",
   "name": "python3"
  },
  "language_info": {
   "codemirror_mode": {
    "name": "ipython",
    "version": 3
   },
   "file_extension": ".py",
   "mimetype": "text/x-python",
   "name": "python",
   "nbconvert_exporter": "python",
   "pygments_lexer": "ipython3",
   "version": "3.12.4"
  }
 },
 "nbformat": 4,
 "nbformat_minor": 5
}
